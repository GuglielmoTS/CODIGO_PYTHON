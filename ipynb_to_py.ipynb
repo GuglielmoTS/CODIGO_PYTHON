{
 "cells": [
  {
   "cell_type": "code",
   "execution_count": 5,
   "id": "87d7bfc3-ad4e-4e9f-880d-ac4a436195f2",
   "metadata": {},
   "outputs": [],
   "source": []
  },
  {
   "cell_type": "code",
   "execution_count": 6,
   "id": "94c18f9e-452c-4033-931c-25f46409e73d",
   "metadata": {},
   "outputs": [],
   "source": [
    "import nbformat\n",
    "from nbconvert import PythonExporter\n",
    "\n",
    "# Cargar el notebook\n",
    "with open(\"test.ipynb\", \"r\", encoding=\"utf-8\") as f:\n",
    "    notebook_content = nbformat.read(f, as_version=4)\n",
    "\n",
    "# Exportar sin números de celda\n",
    "python_exporter = PythonExporter()\n",
    "python_script, _ = python_exporter.from_notebook_node(notebook_content)\n",
    "\n",
    "# Limpiar líneas con \"# In[\"\n",
    "clean_script = \"\\n\".join(line for line in python_script.split(\"\\n\") if not line.strip().startswith(\"# In[\"))\n",
    "\n",
    "# Guardar en un archivo .py limpio\n",
    "with open(\"mi_script.py\", \"w\", encoding=\"utf-8\") as f:\n",
    "    f.write(clean_script)\n"
   ]
  },
  {
   "cell_type": "code",
   "execution_count": null,
   "id": "e8d3c74b-6954-441b-9b84-45a950df0f00",
   "metadata": {},
   "outputs": [],
   "source": []
  }
 ],
 "metadata": {
  "kernelspec": {
   "display_name": "Python 3 (ipykernel)",
   "language": "python",
   "name": "python3"
  },
  "language_info": {
   "codemirror_mode": {
    "name": "ipython",
    "version": 3
   },
   "file_extension": ".py",
   "mimetype": "text/x-python",
   "name": "python",
   "nbconvert_exporter": "python",
   "pygments_lexer": "ipython3",
   "version": "3.12.7"
  }
 },
 "nbformat": 4,
 "nbformat_minor": 5
}
